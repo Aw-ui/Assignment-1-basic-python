{
  "nbformat": 4,
  "nbformat_minor": 0,
  "metadata": {
    "colab": {
      "provenance": []
    },
    "kernelspec": {
      "name": "python3",
      "display_name": "Python 3"
    },
    "language_info": {
      "name": "python"
    }
  },
  "cells": [
    {
      "cell_type": "markdown",
      "source": [],
      "metadata": {
        "id": "kbf4It8eaJ47"
      }
    },
    {
      "cell_type": "markdown",
      "source": [
        "# python basics\n"
      ],
      "metadata": {
        "id": "Be4a9ZweaMJQ"
      }
    },
    {
      "cell_type": "markdown",
      "source": [
        "1)  What is Python, and why is it popular ??\n",
        "    -> Python is a high-level, interpreted programming language known for its readability and simplicity. It was created by Guido van Rossum and first released in 1991. Python's design philosophy emphasizes code readability with its use of indentation to define code blocks, making it easy for developers to write and understand.\n",
        "\n",
        "2)   What is an interpreter in Python ??\n",
        "    ->In Python, an interpreter is a program that executes Python code directly, translating it into machine code line by line as the code is run. Unlike a compiler, which translates the entire program into machine code before execution, an interpreter processes the code in a more step-by-step fashion.\n",
        "\n",
        "3)   What are pre-defined keywords in Python     \n",
        "    ->In Python, pre-defined keywords (also known as reserved words) are special words that have a specific meaning within the Python language. These words cannot be used as identifiers (like variable names, function names, or class names) because they are reserved for special syntactical or functional purposes in the language.\n",
        "\n",
        "    Here is the list of Python's pre-defined keywords:\n",
        "\n",
        "    False\n",
        "    None\n",
        "    True\n",
        "    and\n",
        "    as\n",
        "    assert\n",
        "    async\n",
        "    await\n",
        "    break\n",
        "    class\n",
        "    continue\n",
        "    def\n",
        "    del\n",
        "    elif\n",
        "    else\n",
        "    except\n",
        "    finally\n",
        "    for\n",
        "    from\n",
        "    global\n",
        "    if\n",
        "    import\n",
        "    in\n",
        "    is\n",
        "    lambda\n",
        "    nonlocal\n",
        "    not\n",
        "    or\n",
        "    pass\n",
        "    raise  \n",
        "    return\n",
        "    try\n",
        "    while\n",
        "    with\n",
        "    yield\n",
        "    Explanation of Some Common Keywords:\n",
        "    False, None, True: These are special constants in Python. False represents a boolean false value, None represents the absence of a value, and True represents a boolean true value.\n",
        "    and, or, not: Logical operators used for boolean operations.\n",
        "    if, elif, else: Used for conditional statements to control the flow of the program.\n",
        "\n",
        "4)  Can keywords be used as variable names ?\n",
        "    ->No, keywords in Python cannot be used as variable names. Keywords are reserved words that have a specific meaning and function within the Python language. If you try to use a keyword as a variable name, you will get a syntax error.\n",
        "\n",
        "5)   What is mutability in Python ?\n",
        "    ->Mutability in Python refers to the ability of an object to be modified after it is created.\n",
        "\n",
        "6)   Why are lists mutable, but tuples are immutable ?\n",
        "    ->The difference in mutability between lists (mutable) and tuples (immutable) in Python is a design choice that reflects the intended use cases and behaviors of each data structure.\n",
        "     \n",
        "7)   What is the difference between “==” and “is” operators in Python ?\n",
        "    ->In Python, the == operator and the is operator are used to compare objects, but they serve different purposes and behave differently.\n",
        "\n",
        "8)   What are logical operators in Python ?\n",
        "    ->In Python, logical operators are used to combine conditional statements and return a boolean result (True or False). They are often used in control flow statements to evaluate complex conditions.\n",
        "    the logical operators are as follows:\n",
        "    1)logical AND\n",
        "    2)logical OR\n",
        "    3)logical NOT\n",
        "\n",
        "9)  What is type casting in Python ?\n",
        "    ->The process of changing datatype of a value/object in python.\n",
        "    there are two types od type casting that are as follows:\n",
        "    1)implicit type casting---> python understand the datatype.we can sat implicit type casting to automatic type casting.\n",
        "    2)explicit type casting--->You can also manually convert one data type to another using Python's built-in functions like int(), float(), str(), etc.\n",
        "\n",
        "10) What is the difference between implicit and explicit type casting ?\n",
        "    ->In Python, type casting refers to converting one data type to another. There are two types of type casting:\n",
        "\n",
        "    Implicit Type Casting (Automatic Type Casting)\n",
        "    Explicit Type Casting (Manual Type Casting)   \n",
        "    1. Implicit Type Casting (Automatic Type Casting)\n",
        "    Implicit type casting occurs automatically by Python when it is safe to convert one data type to another. This happens when Python internally converts a smaller data type to a larger data type, without losing any data.\n",
        "    It is automatic and does not require the programmer to do anything explicitly.\n",
        "    The conversion typically happens between compatible data types, such as from int to float, where no data is lost.\n",
        "    2. Explicit Type Casting (Manual Type Casting)\n",
        "    Explicit type casting requires the programmer to manually convert one data type to another using built-in Python functions like int(), float(), str(), etc.\n",
        "    This conversion can be done between compatible or incompatible types, but the programmer must specify it clearly.\n",
        "    Explicit type casting is useful when you need to convert between types that Python does not automatically handle or when you need control over the conversion.\n",
        "\n",
        "11) What is the purpose of conditional statements in Python ?\n",
        "    ->Conditional statements in Python allow the program to execute specific blocks of code based on certain conditions. These statements are essential for controlling the flow of a program, making decisions, and performing different actions depending on whether a condition evaluates to True or False.\n",
        "    Purpose of conditionals statements:\n",
        "    1) Decision-Making   \n",
        "    2) Control Flow\n",
        "    3) Implementing Logic\n",
        "    4) Handling Different Scenarios.\n",
        "\n",
        "12) How does the elif statement work ?\n",
        "    ->The elif statement in Python stands for \"else if\" and is used to check multiple conditions in a sequence. It provides an additional way to test conditions after an initial if statement. If the condition in the if statement evaluates to False, the program will check the condition in the elif block. If that condition is True, the corresponding block of code will be executed. If the elif condition is False, the program continues to check any subsequent elif statements (if any). If none of the conditions are True, the else block is executed (if present).\n",
        "\n",
        "13) What is the difference between for and while loops ?\n",
        "    ->The main difference between a for loop and a while loop in Python lies in how they control the number of iterations and the conditions under which they execute.\n",
        "    1)for Loop:\n",
        "    The for loop is typically used when you know in advance how many times the loop should run, or when you need to iterate over a sequence of elements (like a list, tuple, or range)     \n",
        "    2) while Loop:\n",
        "    The while loop is used when you want to repeat a block of code as long as a condition remains True. The condition is checked before each iteration.\n",
        "  \n",
        "14) Describe a scenario where a while loop is more suitable than a for loop.\n",
        "    ->Imagine you're building a simple user authentication system, where you want to repeatedly prompt the user to enter their username and password until they enter the correct credentials. Since you don’t know how many attempts the user will need before they enter the correct credentials, a while loop would be more suitable than a for loop. This is a classic situation where the number of iterations depends on the user’s actions (whether they enter the correct information or not), making a while loop the best choice.\n",
        "    Why is the while loop suitable here?\n",
        "    The number of attempts is not predetermined. The loop needs to keep asking the user for input until they either enter the correct credentials or exceed a set limit of attempts.\n",
        "    The condition (username == correct_username and password == correct_password) is checked on each iteration, and the loop continues until the condition is met (i.e., the correct credentials are entered).\n",
        "    Why a for loop wouldn’t be suitable:\n",
        "    A for loop requires a predetermined number of iterations (such as iterating over a list or range). In this case, we don’t know how many attempts the user will need, so a for loop would not work well unless you set a fixed range of attempts beforehand (which we did in the example, but it’s still conceptually a while loop because we control the exit condition based on user input).\n",
        "    In this situation, the while loop is ideal because the iteration depends on a dynamic condition (correct credentials being entered or maximum attempts being reached).\n",
        "    "
      ],
      "metadata": {
        "id": "oB-MG2PebhjE"
      }
    },
    {
      "cell_type": "code",
      "source": [],
      "metadata": {
        "id": "n6-yUe8wlgkn"
      },
      "execution_count": null,
      "outputs": []
    },
    {
      "cell_type": "markdown",
      "source": [
        "# Practical questions\n"
      ],
      "metadata": {
        "id": "B6CIr6pdlhHQ"
      }
    },
    {
      "cell_type": "markdown",
      "source": [
        "1.  Write a Python program to print \"Hello, World!\"\n",
        "    \n",
        "\n",
        "---\n",
        "\n"
      ],
      "metadata": {
        "id": "JVe0K0xOlre-"
      }
    },
    {
      "cell_type": "code",
      "source": [
        "print (\"Hello, world!\")"
      ],
      "metadata": {
        "colab": {
          "base_uri": "https://localhost:8080/"
        },
        "id": "DEQt963HmKce",
        "outputId": "766ac4c3-3976-4041-84d7-3f366fde17d8"
      },
      "execution_count": 6,
      "outputs": [
        {
          "output_type": "stream",
          "name": "stdout",
          "text": [
            "Hello, world!\n"
          ]
        }
      ]
    },
    {
      "cell_type": "markdown",
      "source": [
        "2)  Write a Python program that displays your name and age ?"
      ],
      "metadata": {
        "id": "-yPiniWzmqg0"
      }
    },
    {
      "cell_type": "code",
      "source": [
        "name = \"Adarsh wankar\"\n",
        "Age = 20\n",
        "print (name)\n",
        "print (Age)"
      ],
      "metadata": {
        "colab": {
          "base_uri": "https://localhost:8080/"
        },
        "id": "SFkXcYvQm6Oi",
        "outputId": "5274c1f9-f95c-4687-df66-f9d000599b99"
      },
      "execution_count": 7,
      "outputs": [
        {
          "output_type": "stream",
          "name": "stdout",
          "text": [
            "Adarsh wankar\n",
            "20\n"
          ]
        }
      ]
    },
    {
      "cell_type": "markdown",
      "source": [
        "3) Write code to print all the pre-defined keywords in Python using the keyword library."
      ],
      "metadata": {
        "id": "iIyQjvZHnn16"
      }
    },
    {
      "cell_type": "code",
      "source": [
        "help('keywords')"
      ],
      "metadata": {
        "colab": {
          "base_uri": "https://localhost:8080/"
        },
        "id": "aqGLyP2ynyFe",
        "outputId": "d6ad2450-2913-433e-907c-79d12ae01fec"
      },
      "execution_count": 11,
      "outputs": [
        {
          "output_type": "stream",
          "name": "stdout",
          "text": [
            "\n",
            "Here is a list of the Python keywords.  Enter any keyword to get more help.\n",
            "\n",
            "False               class               from                or\n",
            "None                continue            global              pass\n",
            "True                def                 if                  raise\n",
            "and                 del                 import              return\n",
            "as                  elif                in                  try\n",
            "assert              else                is                  while\n",
            "async               except              lambda              with\n",
            "await               finally             nonlocal            yield\n",
            "break               for                 not                 \n",
            "\n"
          ]
        }
      ]
    },
    {
      "cell_type": "markdown",
      "source": [
        "4) Write a program that checks if a given word is a Python keyword"
      ],
      "metadata": {
        "id": "_TknzVJFobVU"
      }
    },
    {
      "cell_type": "code",
      "source": [
        "import keyword\n",
        "\n",
        "word = input(\"Enter a word to check if it's a Python keyword: \")\n",
        "\n",
        "if keyword.iskeyword(word):\n",
        "    print(f\"'{word}' is a Python keyword.\")\n",
        "else:\n",
        "    print(f\"'{word}' is not a Python keyword.\")\n"
      ],
      "metadata": {
        "colab": {
          "base_uri": "https://localhost:8080/"
        },
        "id": "fiygvRhgo8Jp",
        "outputId": "bafc7a14-9882-4e59-fdc6-44b06ebcd06d"
      },
      "execution_count": 13,
      "outputs": [
        {
          "output_type": "stream",
          "name": "stdout",
          "text": [
            "Enter a word to check if it's a Python keyword: is\n",
            "'is' is a Python keyword.\n"
          ]
        }
      ]
    },
    {
      "cell_type": "code",
      "source": [],
      "metadata": {
        "id": "3rZ4RbOIpBnp"
      },
      "execution_count": null,
      "outputs": []
    },
    {
      "cell_type": "markdown",
      "source": [
        "5) Create a list and tuple in Python, and demonstrate how attempting to change an element works differently for each elements."
      ],
      "metadata": {
        "id": "D0ZRzM2lpS6F"
      }
    },
    {
      "cell_type": "code",
      "source": [
        "# Create a list and a tuple\n",
        "my_list = [1, 2, 3, 4]\n",
        "my_tuple = (1, 2, 3, 4)\n",
        "\n",
        "# Attempt to change an element in the list\n",
        "print(\"Original list:\", my_list)\n",
        "my_list[2] = 99  # Changing the third element (index 2)\n",
        "print(\"Modified list:\", my_list)\n",
        "\n",
        "# Attempt to change an element in the tuple\n",
        "print(\"Original tuple:\", my_tuple)\n",
        "try:\n",
        "    my_tuple[2] = 99  # Trying to change the third element (index 2)\n",
        "except TypeError as e:\n",
        "    print(f\"Error: {e}\")\n"
      ],
      "metadata": {
        "colab": {
          "base_uri": "https://localhost:8080/"
        },
        "id": "Rkd6WYYZp6ct",
        "outputId": "9ac7f572-0368-4412-e886-4846969b4b99"
      },
      "execution_count": 14,
      "outputs": [
        {
          "output_type": "stream",
          "name": "stdout",
          "text": [
            "Original list: [1, 2, 3, 4]\n",
            "Modified list: [1, 2, 99, 4]\n",
            "Original tuple: (1, 2, 3, 4)\n",
            "Error: 'tuple' object does not support item assignment\n"
          ]
        }
      ]
    },
    {
      "cell_type": "markdown",
      "source": [
        "6) Write a function to demonstrate the behavior of mutable and immutable arguments."
      ],
      "metadata": {
        "id": "SXWNR1h4qF42"
      }
    },
    {
      "cell_type": "code",
      "source": [
        "def modify_values(mutable_arg, immutable_arg):\n",
        "    print(\"Before modification:\")\n",
        "    print(\"Mutable argument:\", mutable_arg)\n",
        "    print(\"Immutable argument:\", immutable_arg)\n",
        "\n",
        "    # Modify the mutable argument (e.g., list)\n",
        "    mutable_arg.append(100)\n",
        "\n",
        "    # Modify the immutable argument (e.g., integer)\n",
        "    immutable_arg += 50\n",
        "\n",
        "    print(\"\\nAfter modification:\")\n",
        "    print(\"Mutable argument:\", mutable_arg)\n",
        "    print(\"Immutable argument:\", immutable_arg)\n",
        "\n",
        "# Test the function\n",
        "mutable_example = [1, 2, 3]  # List (mutable)\n",
        "immutable_example = 10       # Integer (immutable)\n",
        "\n",
        "modify_values(mutable_example, immutable_example)\n",
        "\n",
        "# Show the original variables after the function call\n",
        "print(\"\\nOriginal variables after function call:\")\n",
        "print(\"Mutable example:\", mutable_example)\n",
        "print(\"Immutable example:\", immutable_example)\n"
      ],
      "metadata": {
        "colab": {
          "base_uri": "https://localhost:8080/"
        },
        "id": "pWtVQBu7qbJd",
        "outputId": "463a7307-6a86-4f68-8402-9fb605553682"
      },
      "execution_count": 15,
      "outputs": [
        {
          "output_type": "stream",
          "name": "stdout",
          "text": [
            "Before modification:\n",
            "Mutable argument: [1, 2, 3]\n",
            "Immutable argument: 10\n",
            "\n",
            "After modification:\n",
            "Mutable argument: [1, 2, 3, 100]\n",
            "Immutable argument: 60\n",
            "\n",
            "Original variables after function call:\n",
            "Mutable example: [1, 2, 3, 100]\n",
            "Immutable example: 10\n"
          ]
        }
      ]
    },
    {
      "cell_type": "code",
      "source": [],
      "metadata": {
        "id": "lsTOZqHFqPD2"
      },
      "execution_count": null,
      "outputs": []
    },
    {
      "cell_type": "markdown",
      "source": [
        "7)  Write a program that performs basic arithmetic operations on two user-input numbers."
      ],
      "metadata": {
        "id": "XFqPvw8wqlwE"
      }
    },
    {
      "cell_type": "code",
      "source": [
        "# Function to perform basic arithmetic operations\n",
        "def perform_operations(num1, num2):\n",
        "    # Addition\n",
        "    addition = num1 + num2\n",
        "    # Subtraction\n",
        "    subtraction = num1 - num2\n",
        "    # Multiplication\n",
        "    multiplication = num1 * num2\n",
        "    # Division (handling division by zero)\n",
        "    if num2 != 0:\n",
        "        division = num1 / num2\n",
        "    else:\n",
        "        division = \"undefined (cannot divide by zero)\"\n",
        "\n",
        "    # Print the results\n",
        "    print(f\"{num1} + {num2} = {addition}\")\n",
        "    print(f\"{num1} - {num2} = {subtraction}\")\n",
        "    print(f\"{num1} * {num2} = {multiplication}\")\n",
        "    print(f\"{num1} / {num2} = {division}\")\n",
        "\n",
        "# Taking user input for the numbers\n",
        "try:\n",
        "    num1 = float(input(\"Enter the first number: \"))\n",
        "    num2 = float(input(\"Enter the second number: \"))\n",
        "\n",
        "    # Call the function to perform operations\n",
        "    perform_operations(num1, num2)\n",
        "\n",
        "except ValueError:\n",
        "    print(\"Invalid input! Please enter numeric values.\")\n"
      ],
      "metadata": {
        "colab": {
          "base_uri": "https://localhost:8080/"
        },
        "id": "4T35KL8BrGCB",
        "outputId": "c0d5ef82-3124-460e-f8ee-52a965738a0c"
      },
      "execution_count": 16,
      "outputs": [
        {
          "output_type": "stream",
          "name": "stdout",
          "text": [
            "Enter the first number: 2\n",
            "Enter the second number: 4\n",
            "2.0 + 4.0 = 6.0\n",
            "2.0 - 4.0 = -2.0\n",
            "2.0 * 4.0 = 8.0\n",
            "2.0 / 4.0 = 0.5\n"
          ]
        }
      ]
    },
    {
      "cell_type": "markdown",
      "source": [
        "8) Write a program to demonstrate the use of logical operators."
      ],
      "metadata": {
        "id": "KUL29HaOrPU1"
      }
    },
    {
      "cell_type": "code",
      "source": [
        "# Function to demonstrate the use of logical operators\n",
        "def logical_operators_demo(a, b):\n",
        "    # Demonstrating 'and' operator\n",
        "    if a > 0 and b > 0:\n",
        "        print(\"Both numbers are positive.\")\n",
        "    else:\n",
        "        print(\"One or both numbers are not positive.\")\n",
        "\n",
        "    # Demonstrating 'or' operator\n",
        "    if a > 0 or b > 0:\n",
        "        print(\"At least one number is positive.\")\n",
        "    else:\n",
        "        print(\"Neither number is positive.\")\n",
        "\n",
        "    # Demonstrating 'not' operator\n",
        "    if not (a < 0 and b < 0):\n",
        "        print(\"Not both numbers are negative.\")\n",
        "    else:\n",
        "        print(\"Both numbers are negative.\")\n",
        "\n",
        "\n",
        "# Test the function with sample values\n",
        "num1 = int(input(\"Enter the first number: \"))\n",
        "num2 = int(input(\"Enter the second number: \"))\n",
        "\n",
        "logical_operators_demo(num1, num2)\n"
      ],
      "metadata": {
        "colab": {
          "base_uri": "https://localhost:8080/"
        },
        "id": "ofk402qbrcDe",
        "outputId": "d7809bc2-cbe2-43d9-987b-2f939fdbeef0"
      },
      "execution_count": 18,
      "outputs": [
        {
          "output_type": "stream",
          "name": "stdout",
          "text": [
            "Enter the first number: 34\n",
            "Enter the second number: -08\n",
            "One or both numbers are not positive.\n",
            "At least one number is positive.\n",
            "Not both numbers are negative.\n"
          ]
        }
      ]
    },
    {
      "cell_type": "markdown",
      "source": [
        "9. Write a Python program to convert user input from string to integer, float, and boolean types.\n",
        "\n"
      ],
      "metadata": {
        "id": "Udp1QVMHrufe"
      }
    },
    {
      "cell_type": "code",
      "source": [
        "# Get user input as a string\n",
        "user_input = input(\"Enter a value: \")\n",
        "\n",
        "# Convert input to integer, float, and boolean types\n",
        "try:\n",
        "    int_value = int(user_input)\n",
        "    print(f\"The integer value is: {int_value}\")\n",
        "except ValueError:\n",
        "    print(\"Cannot convert to integer.\")\n",
        "\n",
        "try:\n",
        "    float_value = float(user_input)\n",
        "    print(f\"The float value is: {float_value}\")\n",
        "except ValueError:\n",
        "    print(\"Cannot convert to float.\")\n",
        "\n",
        "# Convert the string to boolean\n",
        "# In Python, an empty string is considered False, and any non-empty string is considered True\n",
        "bool_value = bool(user_input)\n",
        "print(f\"The boolean value is: {bool_value}\")\n"
      ],
      "metadata": {
        "colab": {
          "base_uri": "https://localhost:8080/"
        },
        "id": "CWzxOX-hrvqC",
        "outputId": "b6e877dc-bca8-4192-ecfa-0a61da68ca89"
      },
      "execution_count": 19,
      "outputs": [
        {
          "output_type": "stream",
          "name": "stdout",
          "text": [
            "Enter a value: 32\n",
            "The integer value is: 32\n",
            "The float value is: 32.0\n",
            "The boolean value is: True\n"
          ]
        }
      ]
    },
    {
      "cell_type": "markdown",
      "source": [
        "10. Write code to demonstrate type casting with list elements."
      ],
      "metadata": {
        "id": "D3ipF9Bkr5tE"
      }
    },
    {
      "cell_type": "code",
      "source": [
        "# A list of string elements\n",
        "string_list = [\"10\", \"20\", \"30\", \"40.5\", \"50.1\"]\n",
        "\n",
        "# Convert the string elements in the list to integers\n",
        "int_list = [int(x) if '.' not in x else int(float(x)) for x in string_list]\n",
        "print(\"List of integers:\", int_list)\n",
        "\n",
        "# Convert the string elements in the list to floats\n",
        "float_list = [float(x) for x in string_list]\n",
        "print(\"List of floats:\", float_list)\n",
        "\n",
        "# Convert the string elements in the list to boolean values\n",
        "bool_list = [bool(x) for x in string_list]\n",
        "print(\"List of booleans:\", bool_list)\n",
        "\n",
        "# Convert the string elements to a list of strings (no change, just for demonstration)\n",
        "string_again_list = [str(x) for x in string_list]\n",
        "print(\"List of strings:\", string_again_list)\n"
      ],
      "metadata": {
        "colab": {
          "base_uri": "https://localhost:8080/"
        },
        "id": "0yYDhPPbsDE9",
        "outputId": "95f1f3a9-8901-4943-8a94-d1ee8f6621ef"
      },
      "execution_count": 20,
      "outputs": [
        {
          "output_type": "stream",
          "name": "stdout",
          "text": [
            "List of integers: [10, 20, 30, 40, 50]\n",
            "List of floats: [10.0, 20.0, 30.0, 40.5, 50.1]\n",
            "List of booleans: [True, True, True, True, True]\n",
            "List of strings: ['10', '20', '30', '40.5', '50.1']\n"
          ]
        }
      ]
    },
    {
      "cell_type": "markdown",
      "source": [
        "11. Write a program that checks if a number is positive, negative, or zero"
      ],
      "metadata": {
        "id": "xWQQjMThsE71"
      }
    },
    {
      "cell_type": "code",
      "source": [
        "# Function to check if the number is positive, negative, or zero\n",
        "def check_number(num):\n",
        "    if num > 0:\n",
        "        print(f\"{num} is positive.\")\n",
        "    elif num < 0:\n",
        "        print(f\"{num} is negative.\")\n",
        "    else:\n",
        "        print(f\"{num} is zero.\")\n",
        "\n",
        "# Taking input from the user\n",
        "try:\n",
        "    number = float(input(\"Enter a number: \"))\n",
        "    check_number(number)\n",
        "except ValueError:\n",
        "    print(\"Invalid input! Please enter a valid number.\")\n"
      ],
      "metadata": {
        "colab": {
          "base_uri": "https://localhost:8080/"
        },
        "id": "sXXPzR3KsKwU",
        "outputId": "9c4d2e8d-ca38-4e26-8a36-06060bec8871"
      },
      "execution_count": 21,
      "outputs": [
        {
          "output_type": "stream",
          "name": "stdout",
          "text": [
            "Enter a number: 54\n",
            "54.0 is positive.\n"
          ]
        }
      ]
    },
    {
      "cell_type": "markdown",
      "source": [
        "12. Write a for loop to print numbers from 1 to 10."
      ],
      "metadata": {
        "id": "ya6iRQSTsPCh"
      }
    },
    {
      "cell_type": "code",
      "source": [
        "# Using a for loop to print numbers from 1 to 10\n",
        "for i in range(1, 11):\n",
        "    print(i)\n"
      ],
      "metadata": {
        "colab": {
          "base_uri": "https://localhost:8080/"
        },
        "id": "tdUN-Jk8sVuG",
        "outputId": "deb82df1-b5d4-441f-d87b-49248ee246f5"
      },
      "execution_count": 22,
      "outputs": [
        {
          "output_type": "stream",
          "name": "stdout",
          "text": [
            "1\n",
            "2\n",
            "3\n",
            "4\n",
            "5\n",
            "6\n",
            "7\n",
            "8\n",
            "9\n",
            "10\n"
          ]
        }
      ]
    },
    {
      "cell_type": "markdown",
      "source": [
        " 13) Write a Python program to find the sum of all even numbers between 1 and 50."
      ],
      "metadata": {
        "id": "YzlSVMFKsc3U"
      }
    },
    {
      "cell_type": "code",
      "source": [
        "# Initialize a variable to store the sum\n",
        "even_sum = 0\n",
        "\n",
        "# Iterate through numbers from 1 to 50\n",
        "for i in range(1, 51):\n",
        "    if i % 2 == 0:  # Check if the number is even\n",
        "        even_sum += i  # Add the even number to the sum\n",
        "\n",
        "# Print the sum of even numbers\n",
        "print(\"The sum of all even numbers between 1 and 50 is:\", even_sum)\n"
      ],
      "metadata": {
        "colab": {
          "base_uri": "https://localhost:8080/"
        },
        "id": "GDrBqps7sjjL",
        "outputId": "7cb943c4-8eb0-44d7-d2cb-bd41f5e414ed"
      },
      "execution_count": 23,
      "outputs": [
        {
          "output_type": "stream",
          "name": "stdout",
          "text": [
            "The sum of all even numbers between 1 and 50 is: 650\n"
          ]
        }
      ]
    },
    {
      "cell_type": "markdown",
      "source": [
        "14. Write a program to reverse a string using a while loop."
      ],
      "metadata": {
        "id": "jvYQm1iqsueV"
      }
    },
    {
      "cell_type": "code",
      "source": [
        "# Function to reverse a string using a while loop\n",
        "def reverse_string(s):\n",
        "    reversed_string = \"\"  # Initialize an empty string to store the reversed string\n",
        "    index = len(s) - 1    # Start from the last character of the string\n",
        "\n",
        "    # Use a while loop to reverse the string\n",
        "    while index >= 0:\n",
        "        reversed_string += s[index]  # Add the character at the current index to the reversed string\n",
        "        index -= 1  # Move to the previous character\n",
        "\n",
        "    return reversed_string\n",
        "\n",
        "# Get user input\n",
        "input_string = input(\"Enter a string: \")\n",
        "\n",
        "# Call the function and print the reversed string\n",
        "reversed_str = reverse_string(input_string)\n",
        "print(\"Reversed string:\", reversed_str)\n"
      ],
      "metadata": {
        "colab": {
          "base_uri": "https://localhost:8080/"
        },
        "id": "HiX9eEdYszPO",
        "outputId": "a5407f89-e2b3-47a5-dad2-dabc5b4af38c"
      },
      "execution_count": 24,
      "outputs": [
        {
          "output_type": "stream",
          "name": "stdout",
          "text": [
            "Enter a string: ajat\n",
            "Reversed string: taja\n"
          ]
        }
      ]
    },
    {
      "cell_type": "markdown",
      "source": [
        "15. Write a Python program to calculate the factorial of a number provided by the user using a while loop"
      ],
      "metadata": {
        "id": "GinQ8FBus7Cv"
      }
    },
    {
      "cell_type": "code",
      "source": [
        "# Function to calculate the factorial using a while loop\n",
        "def calculate_factorial(n):\n",
        "    factorial = 1  # Initialize factorial to 1 (since 0! and 1! both are 1)\n",
        "\n",
        "    # Check if the number is non-negative\n",
        "    if n < 0:\n",
        "        return \"Factorial is not defined for negative numbers\"\n",
        "\n",
        "    # While loop to calculate the factorial\n",
        "    while n > 1:\n",
        "        factorial *= n  # Multiply factorial by the current number\n",
        "        n -= 1  # Decrease the number by 1\n",
        "\n",
        "    return factorial\n",
        "\n",
        "# Get user input\n",
        "try:\n",
        "    number = int(input(\"Enter a number to calculate its factorial: \"))\n",
        "\n",
        "    # Call the function and print the result\n",
        "    result = calculate_factorial(number)\n",
        "    print(f\"The factorial is: {result}\")\n",
        "except ValueError:\n",
        "    print(\"Please enter a valid integer.\")\n"
      ],
      "metadata": {
        "colab": {
          "base_uri": "https://localhost:8080/"
        },
        "id": "vIar4QAJtEmh",
        "outputId": "75600778-e434-48ed-d586-8c5eb2d08264"
      },
      "execution_count": 26,
      "outputs": [
        {
          "output_type": "stream",
          "name": "stdout",
          "text": [
            "Enter a number to calculate its factorial: 3\n",
            "The factorial is: 6\n"
          ]
        }
      ]
    },
    {
      "cell_type": "code",
      "source": [],
      "metadata": {
        "id": "mHr_TR8otGeh"
      },
      "execution_count": null,
      "outputs": []
    }
  ]
}